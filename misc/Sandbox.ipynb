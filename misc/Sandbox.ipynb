{
 "cells": [
  {
   "cell_type": "code",
   "execution_count": 1,
   "id": "42264956",
   "metadata": {},
   "outputs": [],
   "source": [
    "%load_ext autoreload\n",
    "%autoreload 2"
   ]
  },
  {
   "cell_type": "code",
   "execution_count": 7,
   "id": "b4843e0f",
   "metadata": {},
   "outputs": [],
   "source": [
    "ATK = 1.3 + .6\n",
    "CRIT = .13 + .1\n",
    "CDMG = 2.082\n",
    "MULT = 0.3"
   ]
  },
  {
   "cell_type": "code",
   "execution_count": 3,
   "id": "b05193d0",
   "metadata": {},
   "outputs": [],
   "source": [
    "def objective(atk, crit, cdmg, mult):\n",
    "    return (cdmg - 1) * atk * crit + (1 + mult) * atk\n",
    "\n",
    "def bound(combined, atk, cdmg, mult):\n",
    "    return (combined * (cdmg - 1) + (1 + mult)) * atk - (cdmg - 1) * atk ** 2\n",
    "\n",
    "def optimal(combined, cdmg, mult):\n",
    "    atk = (combined * (cdmg - 1) + (1 + mult)) / (2 * (cdmg - 1))\n",
    "    return atk, combined - atk\n",
    "\n",
    "\"\"\"\n",
    "How to find max combined:\n",
    "For needed toppings determined by valid check, sort by combined, choose best.\n",
    "\n",
    "For remaining toppings:\n",
    "3 Combos to be warry of, 3 ATK, 5 ATK, 5 CRIT\n",
    "If no valid, try each of the 5.\n",
    "If 3 remaining, try ATK\n",
    "else: Sort and pick for remaining. Take max as max combined, do following functions to determine upper bound\n",
    "\n",
    "Equations:\n",
    "x+y=2.1252\n",
    "a(x,y)=x*2.082 y+x (1-y)+x*0.3\n",
    "b(x,y)=2.13*1.082 x+1.3 x-1.082 x^(2)\n",
    "\n",
    "TODO given combo or makeup, restrict the domain of atk or crit to find contextual upper bound\n",
    "\"\"\""
   ]
  },
  {
   "cell_type": "code",
   "execution_count": 8,
   "id": "4846b324",
   "metadata": {},
   "outputs": [
    {
     "name": "stdout",
     "output_type": "stream",
     "text": [
      "1.6657393715341962 0.46426062846580374\n",
      "2.9428339999999995 2.942834 0.3657393715341961 0.46426062846580374\n",
      "3.002212041497227\n",
      "3.002212041497227\n"
     ]
    }
   ],
   "source": [
    "old_obj = objective(ATK, CRIT, CDMG, MULT)\n",
    "C = ATK + CRIT\n",
    "upper = bound(C, ATK, CDMG, MULT)\n",
    "op_atk, op_crit = optimal(C, CDMG, MULT)\n",
    "print(op_atk, op_crit)\n",
    "print(old_obj, upper, op_atk-1.3, op_crit)\n",
    "print(bound(op_atk + op_crit, op_atk, CDMG, MULT))\n",
    "print(objective(op_atk, op_crit, CDMG, MULT))"
   ]
  },
  {
   "cell_type": "code",
   "execution_count": null,
   "id": "7f87ae6e",
   "metadata": {},
   "outputs": [],
   "source": [
    "# given a sub combo, determine max combined atk + crit points\n",
    "# op_atk, op_crit = optimal(combined, cdmg, mult)\n",
    "# upper_bound = objective(op_atk, op_crit, cdmg, mult)\n",
    "# if upper_bound >= objective(current_sol): enque children"
   ]
  }
 ],
 "metadata": {
  "kernelspec": {
   "display_name": "Python 3 (ipykernel)",
   "language": "python",
   "name": "python3"
  },
  "language_info": {
   "codemirror_mode": {
    "name": "ipython",
    "version": 3
   },
   "file_extension": ".py",
   "mimetype": "text/x-python",
   "name": "python",
   "nbconvert_exporter": "python",
   "pygments_lexer": "ipython3",
   "version": "3.9.13"
  }
 },
 "nbformat": 4,
 "nbformat_minor": 5
}
